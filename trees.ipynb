{
 "metadata": {
  "language_info": {
   "codemirror_mode": {
    "name": "ipython",
    "version": 3
   },
   "file_extension": ".py",
   "mimetype": "text/x-python",
   "name": "python",
   "nbconvert_exporter": "python",
   "pygments_lexer": "ipython3",
   "version": "3.8.5-final"
  },
  "orig_nbformat": 2,
  "kernelspec": {
   "name": "python3",
   "display_name": "Python 3.8.5 64-bit (conda)",
   "metadata": {
    "interpreter": {
     "hash": "13427881f06f13311079f5221e5dd632fdf9146891f6da22d47a93dcb9272d3a"
    }
   }
  }
 },
 "nbformat": 4,
 "nbformat_minor": 2,
 "cells": [
  {
   "cell_type": "code",
   "execution_count": 2,
   "metadata": {},
   "outputs": [],
   "source": [
    "import pandas as pd"
   ]
  },
  {
   "cell_type": "code",
   "execution_count": 3,
   "metadata": {},
   "outputs": [],
   "source": [
    "df=pd.read_csv(\"data_100000.csv\")\n"
   ]
  },
  {
   "cell_type": "code",
   "execution_count": 4,
   "metadata": {},
   "outputs": [
    {
     "output_type": "execute_result",
     "data": {
      "text/plain": [
       "False"
      ]
     },
     "metadata": {},
     "execution_count": 4
    }
   ],
   "source": [
    "#No duplicates\n",
    "df.duplicated().any()"
   ]
  },
  {
   "cell_type": "code",
   "execution_count": 8,
   "metadata": {},
   "outputs": [
    {
     "output_type": "stream",
     "name": "stdout",
     "text": [
      "34945\n"
     ]
    }
   ],
   "source": [
    "print(df.isnull().sum().sum())"
   ]
  },
  {
   "cell_type": "code",
   "execution_count": 9,
   "metadata": {},
   "outputs": [],
   "source": [
    "#Based on the documentation, if the status is Dead or Stump, information for the columns from health to problems where not recorded\n",
    "# I changed this NaN values to a category called \"Dead_Stump\" \n",
    "df.loc[(df['status']=='Dead') | (df['status']=='Stump'), 'health'] =\"Dead_Stump\""
   ]
  },
  {
   "cell_type": "code",
   "execution_count": 10,
   "metadata": {},
   "outputs": [],
   "source": [
    "df.loc[(df['health']=='Dead_Stump'), ['health', 'spc_latin', 'spc_common',\n",
    "       'steward', 'guards', 'sidewalk', 'problems']]='Dead_Stump'"
   ]
  },
  {
   "cell_type": "code",
   "execution_count": 11,
   "metadata": {},
   "outputs": [],
   "source": [
    "#Values with Yes or No, are changed to Yes or NaN, why? afterward I will conbine all root problems to one column, same with trunks and banches. \n",
    "root_problem=['root_stone', 'root_grate', 'root_other']\n",
    "trunk_problem=['trnk_wire', 'trnk_light', 'trnk_other']\n",
    "branch_problem=['brnch_ligh', 'brnch_shoe', 'brnch_othe']\n",
    "all_binaries= root_problem+trunk_problem+branch_problem"
   ]
  },
  {
   "cell_type": "code",
   "execution_count": 12,
   "metadata": {},
   "outputs": [],
   "source": [
    "for i in all_binaries:\n",
    "    df.loc[df[i]==\"No\", i]=np.NaN"
   ]
  },
  {
   "cell_type": "code",
   "execution_count": 13,
   "metadata": {},
   "outputs": [],
   "source": [
    "df['root_problem']=df[root_problem].any(axis=1)\n",
    "df['trunk_problem']=df[root_problem].any(axis=1)\n",
    "df['branch_problem']=df[root_problem].any(axis=1)"
   ]
  },
  {
   "cell_type": "code",
   "execution_count": 14,
   "metadata": {},
   "outputs": [],
   "source": [
    "df['root_problem']=df['root_problem'].apply(lambda x: 1 if x else 0)\n",
    "df['trunk_problem']=df['trunk_problem'].apply(lambda x: 1 if x else 0)\n",
    "df['branch_problem']=df['branch_problem'].apply(lambda x: 1 if x else 0)"
   ]
  },
  {
   "cell_type": "code",
   "execution_count": 15,
   "metadata": {},
   "outputs": [],
   "source": [
    "#Droping \"unnecesary columns\"\n",
    "#all_binaries contains columsn that were prevously cobindine\n",
    "#columns state is redundant, we know that the dataset is from New York\n",
    "\n",
    "df.drop(columns=all_binaries, inplace=True)\n",
    "df.drop(columns=['state'], inplace=True)"
   ]
  },
  {
   "cell_type": "code",
   "execution_count": 16,
   "metadata": {},
   "outputs": [
    {
     "output_type": "stream",
     "name": "stdout",
     "text": [
      "1\n"
     ]
    }
   ],
   "source": [
    "#1 NaN value, wich is it?\n",
    "print(df.isnull().sum().sum())"
   ]
  },
  {
   "cell_type": "code",
   "execution_count": 24,
   "metadata": {},
   "outputs": [
    {
     "output_type": "execute_result",
     "data": {
      "text/plain": [
       "       created_at  tree_id  block_id  \\\n",
       "32794  09/21/2015   245041    413012   \n",
       "\n",
       "                                           the_geom  tree_dbh  stump_diam  \\\n",
       "32794  POINT (-74.21641202587655 40.54859739520807)        16           0   \n",
       "\n",
       "      curb_loc status health               spc_latin  ...   nta  \\\n",
       "32794   OnCurb  Alive    NaN  Fraxinus pennsylvanica  ...  SI32   \n",
       "\n",
       "                nta_name  boro_ct   latitude  longitude           x_sp  \\\n",
       "32794  Rossville-Woodrow  5020801  40.548597 -74.216412  924106.880773   \n",
       "\n",
       "                y_sp  root_problem trunk_problem  branch_problem  \n",
       "32794  139219.632044             0             0               0  \n",
       "\n",
       "[1 rows x 35 columns]"
      ],
      "text/html": "<div>\n<style scoped>\n    .dataframe tbody tr th:only-of-type {\n        vertical-align: middle;\n    }\n\n    .dataframe tbody tr th {\n        vertical-align: top;\n    }\n\n    .dataframe thead th {\n        text-align: right;\n    }\n</style>\n<table border=\"1\" class=\"dataframe\">\n  <thead>\n    <tr style=\"text-align: right;\">\n      <th></th>\n      <th>created_at</th>\n      <th>tree_id</th>\n      <th>block_id</th>\n      <th>the_geom</th>\n      <th>tree_dbh</th>\n      <th>stump_diam</th>\n      <th>curb_loc</th>\n      <th>status</th>\n      <th>health</th>\n      <th>spc_latin</th>\n      <th>...</th>\n      <th>nta</th>\n      <th>nta_name</th>\n      <th>boro_ct</th>\n      <th>latitude</th>\n      <th>longitude</th>\n      <th>x_sp</th>\n      <th>y_sp</th>\n      <th>root_problem</th>\n      <th>trunk_problem</th>\n      <th>branch_problem</th>\n    </tr>\n  </thead>\n  <tbody>\n    <tr>\n      <th>32794</th>\n      <td>09/21/2015</td>\n      <td>245041</td>\n      <td>413012</td>\n      <td>POINT (-74.21641202587655 40.54859739520807)</td>\n      <td>16</td>\n      <td>0</td>\n      <td>OnCurb</td>\n      <td>Alive</td>\n      <td>NaN</td>\n      <td>Fraxinus pennsylvanica</td>\n      <td>...</td>\n      <td>SI32</td>\n      <td>Rossville-Woodrow</td>\n      <td>5020801</td>\n      <td>40.548597</td>\n      <td>-74.216412</td>\n      <td>924106.880773</td>\n      <td>139219.632044</td>\n      <td>0</td>\n      <td>0</td>\n      <td>0</td>\n    </tr>\n  </tbody>\n</table>\n<p>1 rows × 35 columns</p>\n</div>"
     },
     "metadata": {},
     "execution_count": 24
    }
   ],
   "source": [
    "row_without_health= df[df.health.isnull()]\n",
    "row_without_health"
   ]
  },
  {
   "cell_type": "code",
   "execution_count": 25,
   "metadata": {},
   "outputs": [
    {
     "output_type": "execute_result",
     "data": {
      "text/plain": [
       "POINT (-73.95680061508556 40.61596593024687)     17\n",
       "POINT (-73.78450230028402 40.78750376931255)      7\n",
       "POINT (-73.94127917225204 40.838929366037085)     2\n",
       "POINT (-73.9533161794278 40.738109223463006)      2\n",
       "POINT (-73.94074080596141 40.839665395447945)     2\n",
       "POINT (-73.91800322396026 40.74690571075085)      2\n",
       "POINT (-73.89274872743376 40.75934013151726)      2\n",
       "POINT (-73.96331506361766 40.808811547267055)     2\n",
       "POINT (-73.89603086184627 40.74945433700686)      2\n",
       "POINT (-73.95281428307973 40.76652028002983)      2\n",
       "POINT (-73.9751712010072 40.79002417552816)       2\n",
       "POINT (-73.94156210703247 40.83854197509979)      2\n",
       "POINT (-73.94377478585902 40.83551862761059)      2\n",
       "POINT (-73.96260946824727 40.80982868690634)      2\n",
       "POINT (-73.97798643549005 40.78659233646422)      2\n",
       "POINT (-73.91832729700161 40.653959833861904)     2\n",
       "POINT (-73.91628659044508 40.74927713613266)      2\n",
       "POINT (-73.91780132968749 40.75645762364357)      2\n",
       "Name: the_geom, dtype: int64"
      ]
     },
     "metadata": {},
     "execution_count": 25
    }
   ],
   "source": [
    "#Are this points duplicated, can there be more than 1 tree at each point? \n",
    "count_points= df.the_geom.value_counts()\n",
    "count_points[count_points>1]"
   ]
  },
  {
   "cell_type": "code",
   "execution_count": 12,
   "metadata": {},
   "outputs": [],
   "source": [
    "df.to_csv(\"out.csv\")"
   ]
  }
 ]
}