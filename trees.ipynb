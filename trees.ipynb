{
 "metadata": {
  "language_info": {
   "codemirror_mode": {
    "name": "ipython",
    "version": 3
   },
   "file_extension": ".py",
   "mimetype": "text/x-python",
   "name": "python",
   "nbconvert_exporter": "python",
   "pygments_lexer": "ipython3",
   "version": "3.8.5-final"
  },
  "orig_nbformat": 2,
  "kernelspec": {
   "name": "python3",
   "display_name": "Python 3.8.5 64-bit (conda)",
   "metadata": {
    "interpreter": {
     "hash": "13427881f06f13311079f5221e5dd632fdf9146891f6da22d47a93dcb9272d3a"
    }
   }
  }
 },
 "nbformat": 4,
 "nbformat_minor": 2,
 "cells": [
  {
   "cell_type": "code",
   "execution_count": 28,
   "metadata": {},
   "outputs": [],
   "source": [
    "import pandas as pd\n",
    "import numpy as np"
   ]
  },
  {
   "cell_type": "code",
   "execution_count": 14,
   "metadata": {},
   "outputs": [],
   "source": [
    "df=pd.read_csv(\"data_100000.csv\")\n"
   ]
  },
  {
   "cell_type": "code",
   "execution_count": 19,
   "metadata": {},
   "outputs": [
    {
     "output_type": "execute_result",
     "data": {
      "text/plain": [
       "False"
      ]
     },
     "metadata": {},
     "execution_count": 19
    }
   ],
   "source": [
    "df.duplicated().any()"
   ]
  },
  {
   "cell_type": "code",
   "execution_count": 41,
   "metadata": {},
   "outputs": [],
   "source": [
    "#Based on the documentation, if the statis is Dead or Stump, information for columns from health to problems where not recorder\n",
    "# I changed this NaN values to a category called \"Dead_Stump\" \n",
    "df.loc[(df['status']=='Dead') | (df['status']=='Stump'), 'health'] =\"Dead_Stump\""
   ]
  },
  {
   "cell_type": "code",
   "execution_count": 65,
   "metadata": {},
   "outputs": [],
   "source": [
    "df.loc[(df['health']=='Dead_Stump'), ['health', 'spc_latin', 'spc_common',\n",
    "       'steward', 'guards', 'sidewalk', 'problems']]='Dead_Stump'"
   ]
  },
  {
   "cell_type": "code",
   "execution_count": null,
   "metadata": {},
   "outputs": [],
   "source": [
    "#Values with Yes or No, are change Yes or NaN, why? afterward I will conbine all root problems to one column, same with trunks and banches. "
   ]
  },
  {
   "cell_type": "code",
   "execution_count": 80,
   "metadata": {},
   "outputs": [],
   "source": [
    "root_problem=['root_stone', 'root_grate', 'root_other']\n",
    "trunk_problem=['trnk_wire', 'trnk_light', 'trnk_other']\n",
    "branch_problem=['brnch_ligh', 'brnch_shoe', 'brnch_othe']"
   ]
  },
  {
   "cell_type": "code",
   "execution_count": 104,
   "metadata": {},
   "outputs": [],
   "source": [
    "all_binaries= root_problem+trunk_problem+branch_problem"
   ]
  },
  {
   "cell_type": "code",
   "execution_count": 108,
   "metadata": {},
   "outputs": [],
   "source": [
    "for i in all_binaries:\n",
    "    df.loc[df[i]==\"No\", i]=np.NaN"
   ]
  },
  {
   "cell_type": "code",
   "execution_count": 115,
   "metadata": {},
   "outputs": [],
   "source": [
    "df['root_problem']=df[root_problem].any(axis=1)\n",
    "df['trunk_problem']=df[root_problem].any(axis=1)\n",
    "df['branch_problem']=df[root_problem].any(axis=1)"
   ]
  },
  {
   "cell_type": "code",
   "execution_count": 116,
   "metadata": {},
   "outputs": [],
   "source": [
    "df['root_problem']=df['root_problem'].apply(lambda x: 1 if x else 0)\n",
    "df['trunk_problem']=df['trunk_problem'].apply(lambda x: 1 if x else 0)\n",
    "df['branch_problem']=df['branch_problem'].apply(lambda x: 1 if x else 0)"
   ]
  },
  {
   "cell_type": "code",
   "execution_count": 126,
   "metadata": {},
   "outputs": [],
   "source": [
    "#Droping \"unnecesary columns\"\r\n",
    "df.drop(columns=all_binaries, inplace=True)"
   ]
  },
  {
   "cell_type": "code",
   "execution_count": 127,
   "metadata": {},
   "outputs": [
    {
     "output_type": "execute_result",
     "data": {
      "text/plain": [
       "created_at        0\n",
       "tree_id           0\n",
       "block_id          0\n",
       "the_geom          0\n",
       "tree_dbh          0\n",
       "stump_diam        0\n",
       "curb_loc          0\n",
       "status            0\n",
       "health            1\n",
       "spc_latin         0\n",
       "spc_common        0\n",
       "steward           0\n",
       "guards            0\n",
       "sidewalk          0\n",
       "user_type         0\n",
       "problems          0\n",
       "address           0\n",
       "zipcode           0\n",
       "zip_city          0\n",
       "cb_num            0\n",
       "borocode          0\n",
       "boroname          0\n",
       "cncldist          0\n",
       "st_assem          0\n",
       "st_senate         0\n",
       "nta               0\n",
       "nta_name          0\n",
       "boro_ct           0\n",
       "state             0\n",
       "latitude          0\n",
       "longitude         0\n",
       "x_sp              0\n",
       "y_sp              0\n",
       "root_problem      0\n",
       "trunk_problem     0\n",
       "branch_problem    0\n",
       "dtype: int64"
      ]
     },
     "metadata": {},
     "execution_count": 127
    }
   ],
   "source": [
    "df.isnull().sum()"
   ]
  },
  {
   "cell_type": "code",
   "execution_count": null,
   "metadata": {},
   "outputs": [],
   "source": []
  }
 ]
}